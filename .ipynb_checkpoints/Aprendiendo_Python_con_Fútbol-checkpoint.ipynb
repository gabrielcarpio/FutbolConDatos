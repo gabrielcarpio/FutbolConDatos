{
 "cells": [
  {
   "cell_type": "code",
   "execution_count": 1,
   "id": "3a5966cb",
   "metadata": {},
   "outputs": [
    {
     "name": "stdout",
     "output_type": "stream",
     "text": [
      "¡Hola, Mundo Futbolístico!\n"
     ]
    }
   ],
   "source": [
    "#Ejemplo 1: Mostrar texto en pantalla\n",
    "\n",
    "print(\"¡Hola, Mundo Futbolístico!\")"
   ]
  },
  {
   "cell_type": "code",
   "execution_count": 2,
   "id": "50a2cf53",
   "metadata": {},
   "outputs": [
    {
     "name": "stdout",
     "output_type": "stream",
     "text": [
      "Jude Bellingham - Centrocampista, 20 años.\n",
      "Goles en la temporada actual: 14 goles, con su equipo Real Madrid.\n",
      "Jude Bellingham ha contribuido en total con 17 G+A esta temporada.\n"
     ]
    }
   ],
   "source": [
    "#Ejemplo 2: Variables y Operaciones Básicas\n",
    "\n",
    "# Información del Jugador\n",
    "nombre_jugador = \"Jude Bellingham\"\n",
    "edad = 20\n",
    "posicion = \"Centrocampista\"\n",
    "goles_temporada_actual = 14\n",
    "asistencias_temporada_actual = 3\n",
    "partidos_jugados = 18\n",
    "equipo = \"Real Madrid\"\n",
    "\n",
    "# Mostrar Información\n",
    "print(f\"{nombre_jugador} - {posicion}, {edad} años.\")\n",
    "print(f\"Goles en la temporada actual: {goles_temporada_actual} goles, con su equipo {equipo}.\")\n",
    "\n",
    "# Cálculo de G+A (Goles + Asistencias)\n",
    "total_g_a = goles_temporada_actual + asistencias_temporada_actual\n",
    "print(f\"{nombre_jugador} ha contribuido en total con {total_g_a} G+A esta temporada.\")"
   ]
  },
  {
   "cell_type": "code",
   "execution_count": 3,
   "id": "71203024",
   "metadata": {},
   "outputs": [
    {
     "name": "stdout",
     "output_type": "stream",
     "text": [
      "Jude Bellingham está teniendo una gran temporada.\n"
     ]
    }
   ],
   "source": [
    "#Ejemplo 3: Estructuras de Control - Decisión\n",
    "\n",
    "# Evaluación del Rendimiento del Jugador\n",
    "if goles_temporada_actual >= 10:\n",
    "    print(f\"{nombre_jugador} está teniendo una gran temporada.\")\n",
    "else:\n",
    "    print(f\"{nombre_jugador} podría mejorar su rendimiento goleador.\")"
   ]
  },
  {
   "cell_type": "code",
   "execution_count": 4,
   "id": "59d2985d",
   "metadata": {},
   "outputs": [
    {
     "name": "stdout",
     "output_type": "stream",
     "text": [
      "En el partido 1, Jude Bellingham anotó 1 goles.\n",
      "En el partido 2, Jude Bellingham anotó 1 goles.\n",
      "En el partido 3, Jude Bellingham anotó 2 goles.\n",
      "En el partido 4, Jude Bellingham anotó 0 goles.\n",
      "En el partido 5, Jude Bellingham anotó 3 goles.\n"
     ]
    }
   ],
   "source": [
    "#Ejemplo 4: Listas y Bucles\n",
    "\n",
    "# Lista de Goles en Partidos\n",
    "lista_goles = [1, 1, 2, 0, 3]\n",
    "\n",
    "# Mostrar Goles en Cada Partido\n",
    "for partido, goles in enumerate(lista_goles, start=1):\n",
    "    print(f\"En el partido {partido}, {nombre_jugador} anotó {goles} goles.\")"
   ]
  },
  {
   "cell_type": "code",
   "execution_count": 5,
   "id": "73f4db3f",
   "metadata": {},
   "outputs": [
    {
     "name": "stdout",
     "output_type": "stream",
     "text": [
      "Jude Bellingham tiene un promedio de 0.78 goles por partido.\n"
     ]
    }
   ],
   "source": [
    "#Ejemplo 5: Funciones\n",
    "\n",
    "# Función para Calcular el Promedio de Goles por Partido\n",
    "def promedio_goles_por_partido(total_goles, partidos_jugados):\n",
    "    return total_goles / partidos_jugados if partidos_jugados > 0 else 0\n",
    "\n",
    "# Llamada a la Función\n",
    "promedio = promedio_goles_por_partido(goles_temporada_actual, partidos_jugados)\n",
    "print(f\"{nombre_jugador} tiene un promedio de {promedio:.2f} goles por partido.\")"
   ]
  },
  {
   "cell_type": "code",
   "execution_count": 6,
   "id": "66e893a4",
   "metadata": {},
   "outputs": [
    {
     "name": "stdout",
     "output_type": "stream",
     "text": [
      "Artem Dovbyk juega como delantero.\n",
      "Frenkie de Jong juega como centrocampista.\n",
      "Daley Blind juega como defensa.\n"
     ]
    }
   ],
   "source": [
    "#Ejemplo 6: Diccionarios\n",
    "\n",
    "# Información de Jugadores en un Equipo\n",
    "equipo = {\"delantero\": \"Artem Dovbyk\", \"centrocampista\": \"Frenkie de Jong\", \"defensa\": \"Daley Blind\"}\n",
    "\n",
    "# Mostrar la Posición de Cada Jugador\n",
    "for posicion, jugador in equipo.items():\n",
    "    print(f\"{jugador} juega como {posicion}.\")    \n",
    "    "
   ]
  },
  {
   "cell_type": "code",
   "execution_count": 7,
   "id": "6cb09993",
   "metadata": {},
   "outputs": [
    {
     "name": "stdout",
     "output_type": "stream",
     "text": [
      "Partido 1: Jude Bellingham anota 3 goles.\n",
      "Partido 2: Jude Bellingham anota 3 goles.\n",
      "Partido 3: Jude Bellingham anota 0 goles.\n",
      "Partido 4: Jude Bellingham anota 3 goles.\n",
      "Partido 5: Jude Bellingham anota 1 goles.\n"
     ]
    }
   ],
   "source": [
    "# Ejemplo 7: Uso de Módulos\n",
    "\n",
    "# Uso del Módulo Random para Simular Resultados\n",
    "import random\n",
    "\n",
    "# Simular número de goles\n",
    "for partido in range(1, 6):\n",
    "    goles_simulados = random.randint(0, 3)\n",
    "    print(f\"Partido {partido}: {nombre_jugador} anota {goles_simulados} goles.\")"
   ]
  },
  {
   "cell_type": "code",
   "execution_count": 8,
   "id": "1450ae7b",
   "metadata": {},
   "outputs": [
    {
     "data": {
      "image/png": "[encoded data removed]",
      "text/plain": [
       "<Figure size 432x288 with 1 Axes>"
      ]
     },
     "metadata": {
      "needs_background": "light"
     },
     "output_type": "display_data"
    }
   ],
   "source": [
    "# Ejemplo 8: Uso de la Biblioteca Matplotlib para Graficar Goles\n",
    "import matplotlib.pyplot as plt\n",
    "\n",
    "# Graficar Goles en los Últimos 5 Partidos\n",
    "# Utilizamos la lista \"lista_goles\" del Ejemplo 4 \n",
    "partidos = list(range(1, 6))\n",
    "plt.plot(partidos, lista_goles, marker='o')\n",
    "plt.title(f\"Goles de {nombre_jugador} en los últimos 5 partidos\")\n",
    "plt.xlabel(\"Partido\")\n",
    "plt.ylabel(\"Goles\")\n",
    "plt.show()"
   ]
  },
  {
   "cell_type": "code",
   "execution_count": 9,
   "id": "f5d56f29",
   "metadata": {},
   "outputs": [
    {
     "name": "stdout",
     "output_type": "stream",
     "text": [
      "Información del jugador guardada en 'informacion_jugador.txt'.\n"
     ]
    }
   ],
   "source": [
    "# Ejemplo 9: Archivos\n",
    "\n",
    "# Guardar Información del Jugador en un Archivo\n",
    "with open(\"informacion_jugador.txt\", \"w\") as archivo:\n",
    "    archivo.write(f\"Nombre: {nombre_jugador}\\nEdad: {edad}\\nGoles: {goles_temporada_actual}\\nAsistencias: {asistencias_temporada_actual}\")\n",
    "print(\"Información del jugador guardada en 'informacion_jugador.txt'.\")"
   ]
  },
  {
   "cell_type": "code",
   "execution_count": null,
   "id": "b60f8f82",
   "metadata": {},
   "outputs": [],
   "source": []
  }
 ],
 "metadata": {
  "kernelspec": {
   "display_name": "Python 3",
   "language": "python",
   "name": "python3"
  },
  "language_info": {
   "codemirror_mode": {
    "name": "ipython",
    "version": 3
   },
   "file_extension": ".py",
   "mimetype": "text/x-python",
   "name": "python",
   "nbconvert_exporter": "python",
   "pygments_lexer": "ipython3",
   "version": "3.8.8"
  }
 },
 "nbformat": 4,
 "nbformat_minor": 5
}
